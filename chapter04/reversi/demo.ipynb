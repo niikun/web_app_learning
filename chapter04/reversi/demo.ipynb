{
 "cells": [
  {
   "cell_type": "code",
   "execution_count": 2,
   "metadata": {},
   "outputs": [],
   "source": [
    "EMPTY,BLACK,WHITE,CAN_FLIP = 0,1,2,3\n",
    "STATUS = [\"□\",\"黒\",\"白\",\"・\"]\n",
    "\n",
    "DIR_OFFSET = [(-1,-1),(-1,0),(-1,1),\n",
    "              (0,-1),        (0,1),\n",
    "              (1,-1), (1,0), (1,1)]\n",
    "def generate_board()->list[list[int]]:\n",
    "    board = [[EMPTY]*8 for _ in range(8)]\n",
    "    board[3][4] = board[4][3] = BLACK\n",
    "    board[3][3] = board[4][4] = WHITE\n",
    "    return board"
   ]
  },
  {
   "cell_type": "code",
   "execution_count": 3,
   "metadata": {},
   "outputs": [
    {
     "data": {
      "text/plain": [
       "[[0, 0, 0, 0, 0, 0, 0, 0],\n",
       " [0, 0, 0, 0, 0, 0, 0, 0],\n",
       " [0, 0, 0, 0, 0, 0, 0, 0],\n",
       " [0, 0, 0, 2, 1, 0, 0, 0],\n",
       " [0, 0, 0, 1, 2, 0, 0, 0],\n",
       " [0, 0, 0, 0, 0, 0, 0, 0],\n",
       " [0, 0, 0, 0, 0, 0, 0, 0],\n",
       " [0, 0, 0, 0, 0, 0, 0, 0]]"
      ]
     },
     "execution_count": 3,
     "metadata": {},
     "output_type": "execute_result"
    }
   ],
   "source": [
    "board = generate_board()\n",
    "board"
   ]
  },
  {
   "cell_type": "code",
   "execution_count": null,
   "metadata": {},
   "outputs": [],
   "source": []
  }
 ],
 "metadata": {
  "kernelspec": {
   "display_name": ".venv",
   "language": "python",
   "name": "python3"
  },
  "language_info": {
   "codemirror_mode": {
    "name": "ipython",
    "version": 3
   },
   "file_extension": ".py",
   "mimetype": "text/x-python",
   "name": "python",
   "nbconvert_exporter": "python",
   "pygments_lexer": "ipython3",
   "version": "3.12.1"
  }
 },
 "nbformat": 4,
 "nbformat_minor": 2
}
